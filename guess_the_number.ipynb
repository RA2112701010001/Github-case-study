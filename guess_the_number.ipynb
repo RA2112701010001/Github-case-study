{
  "nbformat": 4,
  "nbformat_minor": 0,
  "metadata": {
    "colab": {
      "provenance": [],
      "authorship_tag": "ABX9TyNumd1B5X/W5XNoMBt/X/je",
      "include_colab_link": true
    },
    "kernelspec": {
      "name": "python3",
      "display_name": "Python 3"
    },
    "language_info": {
      "name": "python"
    }
  },
  "cells": [
    {
      "cell_type": "markdown",
      "metadata": {
        "id": "view-in-github",
        "colab_type": "text"
      },
      "source": [
        "<a href=\"https://colab.research.google.com/github/RA2112701010001/Github-case-study/blob/main/guess_the_number.ipynb\" target=\"_parent\"><img src=\"https://colab.research.google.com/assets/colab-badge.svg\" alt=\"Open In Colab\"/></a>"
      ]
    },
    {
      "cell_type": "code",
      "source": [
        "# prompt: intresting game\n",
        "\n",
        "import random\n",
        "\n",
        "def guess_the_number():\n",
        "    \"\"\"Plays a number guessing game with the user.\"\"\"\n",
        "\n",
        "    secret_number = random.randint(1, 100)\n",
        "    guesses_left = 7\n",
        "    print(\"Welcome to Guess the Number!\")\n",
        "    print(\"I'm thinking of a number between 1 and 100.\")\n",
        "\n",
        "    while guesses_left > 0:\n",
        "        try:\n",
        "            guess = int(input(f\"You have {guesses_left} guesses left. What's your guess? \"))\n",
        "        except ValueError:\n",
        "            print(\"Invalid input. Please enter a number.\")\n",
        "            continue\n",
        "\n",
        "        if guess < secret_number:\n",
        "            print(\"Too low!\")\n",
        "        elif guess > secret_number:\n",
        "            print(\"Too high!\")\n",
        "        else:\n",
        "            print(f\"Congratulations! You guessed the number in {7 - guesses_left} tries!\")\n",
        "            return\n",
        "\n",
        "        guesses_left -= 1\n",
        "\n",
        "    print(f\"You ran out of guesses. The number was {secret_number}.\")\n",
        "\n",
        "if __name__ == \"__main__\":\n",
        "    guess_the_number()\n"
      ],
      "metadata": {
        "colab": {
          "base_uri": "https://localhost:8080/"
        },
        "id": "FJ3ycVpsOZgC",
        "outputId": "9c910f02-ffd7-412d-b865-2a90bf918963"
      },
      "execution_count": 6,
      "outputs": [
        {
          "output_type": "stream",
          "name": "stdout",
          "text": [
            "Welcome to Guess the Number!\n",
            "I'm thinking of a number between 1 and 100.\n",
            "You have 7 guesses left. What's your guess? 25\n",
            "Too low!\n",
            "You have 6 guesses left. What's your guess? 5\n",
            "Too low!\n",
            "You have 5 guesses left. What's your guess? 99\n",
            "Too high!\n",
            "You have 4 guesses left. What's your guess? 50\n",
            "Too low!\n",
            "You have 3 guesses left. What's your guess? 86\n",
            "Too low!\n",
            "You have 2 guesses left. What's your guess? 90\n",
            "Too high!\n",
            "You have 1 guesses left. What's your guess? 89\n",
            "Congratulations! You guessed the number in 6 tries!\n"
          ]
        }
      ]
    }
  ]
}